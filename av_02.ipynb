{
 "cells": [
  {
   "cell_type": "markdown",
   "metadata": {},
   "source": [
    "# Exercício 1\n",
    "\n",
    "![alt text]({79AE066F-1005-42DB-BBAF-9B8CF3035B92}.png)"
   ]
  },
  {
   "cell_type": "markdown",
   "metadata": {},
   "source": [
    "![alt text](<Captura de tela 2025-06-18 183655.png>)"
   ]
  },
  {
   "cell_type": "code",
   "execution_count": 14,
   "metadata": {},
   "outputs": [
    {
     "name": "stdout",
     "output_type": "stream",
     "text": [
      "v2 = 29306.87 m/s\n",
      "l2 = 152019579575.61 m\n",
      "T = 31541466.67 s (≈ 1.00 anos)\n",
      "e = 0.01645\n"
     ]
    }
   ],
   "source": [
    "import math\n",
    "\n",
    "# descobrindo v1 e l1\n",
    "v1=float(input(\"Digite o valor de v1 (em m/s): \"))\n",
    "l1=float(input(\"Digite o valor de l1 (em m): \"))\n",
    "\n",
    "# Constantes\n",
    "G = 6.67430e-11  # m^3 kg^-1 s^-2\n",
    "M = 1.989e30  # kg (massa do Sol)\n",
    "\n",
    "# Equação para v2: v2² - (2GM)/(v1 l1) v2 - (v1² - 2GM/l1) = 0\n",
    "a = 1\n",
    "b = -(2 * G * M) / (v1 * l1)\n",
    "c = -(v1**2 - (2 * G * M / l1))\n",
    "\n",
    "# Discriminante\n",
    "delta = b**2 - 4 * a * c\n",
    "\n",
    "if delta < 0:\n",
    "    print(\"Não há raízes reais para a equação.\")\n",
    "else:\n",
    "    # Raízes\n",
    "    v21 = (-b + math.sqrt(delta)) / (2 * a)\n",
    "    v22 = (-b - math.sqrt(delta)) / (2 * a)\n",
    "    \n",
    "    # Seleciona a raiz positiva (deveria ser menor que v1)\n",
    "    v2 = min(v21, v22) if min(v21, v22) > 0 else max(v21, v22)\n",
    "    \n",
    "    if v2 <= 0:\n",
    "        print(\"Nenhuma raiz positiva para v2.\")\n",
    "    else:\n",
    "        # Calculando l2 (afélio)\n",
    "        l2 = (v1 * l1) / v2\n",
    "        \n",
    "        # Semi-eixos\n",
    "        a_semi = (l1 + l2) / 2  # semi-eixo maior\n",
    "        b_semi = math.sqrt(l1 * l2)  # semi-eixo menor\n",
    "        \n",
    "        # Período orbital \n",
    "        T = 2 * math.pi * math.sqrt(a_semi**3 / (G * M))\n",
    "        \n",
    "        # Excentricidade\n",
    "        e = (l2 - l1) / (l2 + l1)\n",
    "        \n",
    "        # Saída\n",
    "        print(f\"v2 = {v2:.2f} m/s\")\n",
    "        print(f\"l2 = {l2:.2f} m\")\n",
    "        print(f\"T = {T:.2f} s (≈ {T/31557600:.2f} anos)\")\n",
    "        print(f\"e = {abs(e):.5f}\")"
   ]
  },
  {
   "cell_type": "markdown",
   "metadata": {},
   "source": [
    "# Exercício 2\n",
    "\n",
    "![alt text]({18F7E608-8C67-4093-A239-6B54247FA992}.png)"
   ]
  },
  {
   "cell_type": "markdown",
   "metadata": {},
   "source": [
    "![alt text](<Captura de tela 2025-06-18 183016.png>)"
   ]
  },
  {
   "cell_type": "code",
   "execution_count": 6,
   "metadata": {},
   "outputs": [
    {
     "name": "stdout",
     "output_type": "stream",
     "text": [
      "Probabilidade de transmissão: 0.7301\n",
      "Probabilidade de reflexão: 0.2699\n"
     ]
    }
   ],
   "source": [
    "# definindo as constantes do problema\n",
    "m=9.11*10**-31  # massa do eletron (Kg)\n",
    "E=10*1.60218e-19 # energia do eletron (J)\n",
    "V=9*1.60218e-19  # potencial do poço (J)\n",
    "hbar = 1.0545718e-34  # h coratdo (J·s)\n",
    "\n",
    "# calculando k1 e k2\n",
    "\n",
    "k1= (2*m*E)**0.5 / hbar\n",
    "k2 = (2*m*(E-V))**0.5 / hbar\n",
    "\n",
    "# calculando as probablidades de transmissão e reflexão\n",
    "T = (4 * k1 * k2) / ((k1 + k2)**2)\n",
    "R = (k1 - k2) ** 2 / ((k1 + k2) ** 2)\n",
    "\n",
    "# exibindo os resultados\n",
    "print(f\"Probabilidade de transmissão: {T:.4f}\")\n",
    "print(f\"Probabilidade de reflexão: {R:.4f}\")\n",
    "\n"
   ]
  },
  {
   "cell_type": "markdown",
   "metadata": {},
   "source": [
    "# Exercício 3\n",
    "\n",
    "![alt text]({05F54F8B-0781-4CCB-9DEA-C729236410DC}.png)"
   ]
  },
  {
   "cell_type": "markdown",
   "metadata": {},
   "source": [
    "![alt text](<Captura de tela 2025-06-18 181957.png>)"
   ]
  },
  {
   "cell_type": "code",
   "execution_count": 7,
   "metadata": {},
   "outputs": [
    {
     "name": "stdout",
     "output_type": "stream",
     "text": [
      "O ponto de coordenadas polares ( 10 , 45.0 ) em coordenadas cartesianas é ( 7.0710678118654755 , 7.0710678118654755 )\n"
     ]
    }
   ],
   "source": [
    "# obter as coordenadas polares (r,teta)\n",
    "r=int(input(\"Qual o valor de r?\"))\n",
    "teta=float(input(\"Qual o valor de teta? (em graus) \"))\n",
    "# converter para coordenadas cartesianas (x,y), (converter tb teta para radianos)\n",
    "from math import pi, cos, sin\n",
    "x=r*cos(teta*pi/180)\n",
    "y=r*sin(teta*pi/180)\n",
    "print(\"O ponto de coordenadas polares (\",r,\",\",teta,\") em coordenadas cartesianas é (\",x,\",\",y,\")\")"
   ]
  },
  {
   "cell_type": "markdown",
   "metadata": {},
   "source": [
    "# Exercício 4\n",
    "\n",
    "![alt text]({0271498F-E588-414B-9048-E8B5873529FD}.png)"
   ]
  },
  {
   "cell_type": "markdown",
   "metadata": {},
   "source": [
    "![alt text](<Captura de tela 2025-06-18 181434.png>)"
   ]
  },
  {
   "cell_type": "code",
   "execution_count": 8,
   "metadata": {},
   "outputs": [
    {
     "name": "stdout",
     "output_type": "stream",
     "text": [
      "0 1 1 2 3 5 8 13 21 34 55 89 144 233 377 610 987 1597 2584 4181 6765 10946 17711 28657 46368 75025 121393 196418 317811 514229 832040 1346269 2178309 3524578 5702887 9227465 14930352 24157817 39088169 63245986 102334155 165580141 267914296 433494437 701408733 1134903170 1836311903 2971215073 4807526976 7778742049 12586269025 20365011074 32951280099 53316291173 86267571272 139583862445 225851433717 365435296162 591286729879 956722026041 1548008755920 2504730781961 4052739537881 6557470319842 10610209857723 17167680177565 27777890035288 44945570212853 72723460248141 117669030460994 190392490709135 308061521170129 498454011879264 806515533049393 1304969544928657 2111485077978050 3416454622906707 5527939700884757 8944394323791464 14472334024676221 23416728348467685 37889062373143906 61305790721611591 99194853094755497 160500643816367088 259695496911122585 420196140727489673 679891637638612258 1100087778366101931 1779979416004714189 2880067194370816120 4660046610375530309 7540113804746346429 12200160415121876738 19740274219868223167 31940434634990099905 51680708854858323072 83621143489848422977 135301852344706746049 218922995834555169026 354224848179261915075 573147844013817084101 927372692193078999176 1500520536206896083277 2427893228399975082453 3928413764606871165730 6356306993006846248183 10284720757613717413913 16641027750620563662096 26925748508234281076009 43566776258854844738105 70492524767089125814114 114059301025943970552219 184551825793033096366333 298611126818977066918552 483162952612010163284885 781774079430987230203437 1264937032042997393488322 2046711111473984623691759 3311648143516982017180081 5358359254990966640871840 8670007398507948658051921 14028366653498915298923761 22698374052006863956975682 36726740705505779255899443 59425114757512643212875125 96151855463018422468774568 155576970220531065681649693 251728825683549488150424261 407305795904080553832073954 659034621587630041982498215 1066340417491710595814572169 1725375039079340637797070384 2791715456571051233611642553 4517090495650391871408712937 7308805952221443105020355490 11825896447871834976429068427 19134702400093278081449423917 30960598847965113057878492344 50095301248058391139327916261 81055900096023504197206408605 131151201344081895336534324866 212207101440105399533740733471 343358302784187294870275058337 555565404224292694404015791808 898923707008479989274290850145 1454489111232772683678306641953 2353412818241252672952597492098 3807901929474025356630904134051 6161314747715278029583501626149 9969216677189303386214405760200 16130531424904581415797907386349 26099748102093884802012313146549 42230279526998466217810220532898 68330027629092351019822533679447 110560307156090817237632754212345 178890334785183168257455287891792 289450641941273985495088042104137 468340976726457153752543329995929 757791618667731139247631372100066 1226132595394188293000174702095995 1983924214061919432247806074196061 3210056809456107725247980776292056 5193981023518027157495786850488117 8404037832974134882743767626780173 13598018856492162040239554477268290 22002056689466296922983322104048463 35600075545958458963222876581316753 57602132235424755886206198685365216 93202207781383214849429075266681969 150804340016807970735635273952047185 244006547798191185585064349218729154 394810887814999156320699623170776339 638817435613190341905763972389505493 1033628323428189498226463595560281832 1672445759041379840132227567949787325 2706074082469569338358691163510069157 4378519841510949178490918731459856482 7084593923980518516849609894969925639 11463113765491467695340528626429782121 18547707689471986212190138521399707760 30010821454963453907530667147829489881 48558529144435440119720805669229197641 78569350599398894027251472817058687522 127127879743834334146972278486287885163 205697230343233228174223751303346572685 332825110087067562321196029789634457848 538522340430300790495419781092981030533 871347450517368352816615810882615488381 1409869790947669143312035591975596518914 2281217241465037496128651402858212007295 3691087032412706639440686994833808526209 5972304273877744135569338397692020533504 9663391306290450775010025392525829059713 15635695580168194910579363790217849593217 25299086886458645685589389182743678652930 40934782466626840596168752972961528246147 66233869353085486281758142155705206899077 107168651819712326877926895128666735145224 173402521172797813159685037284371942044301 "
     ]
    }
   ],
   "source": [
    "n = 200\n",
    "\n",
    "if n <=0:\n",
    "    print('n precisa ser maior que 0 ')\n",
    "elif n == 1:\n",
    "    print('0')\n",
    "elif n == 2:\n",
    "    print('0 1')\n",
    "else:\n",
    "    t1 = 0\n",
    "    t2 = 1 \n",
    "    print (t1, t2, end = ' ')\n",
    "    for i in range(3, n+1, 1):\n",
    "        t0 = t1\n",
    "        t1 = t2\n",
    "        t2 = t0 + t2\n",
    "        print(t2, end = ' ')"
   ]
  },
  {
   "cell_type": "markdown",
   "metadata": {},
   "source": [
    "# Exercício 5\n",
    "\n",
    "![alt text]({1B411012-FF2E-47F8-A691-AB0D9EC0B4B0}.png)"
   ]
  },
  {
   "cell_type": "markdown",
   "metadata": {},
   "source": [
    "![alt text](image.png)"
   ]
  },
  {
   "cell_type": "code",
   "execution_count": null,
   "metadata": {},
   "outputs": [
    {
     "name": "stdout",
     "output_type": "stream",
     "text": [
      "\n",
      "a) Trajetória do projétil:\n",
      "Tempo(s)\t x(m)\t y(m)\n",
      "0.00\t\t0.00\t0.00\n",
      "0.50\t\t7.07\t5.84\n",
      "1.00\t\t14.14\t9.24\n",
      "1.50\t\t21.21\t10.18\n",
      "2.00\t\t28.28\t8.66\n",
      "2.50\t\t35.36\t4.70\n",
      "\n",
      "b) Trajetória com altura do plano:\n",
      "Tempo(s)\t x(m)\t y_proj(m)\t y_plano(m)\n",
      "0.00\t\t0.00\t0.00\t\t0.00\n",
      "0.50\t\t7.07\t5.84\t\t4.08\n",
      "1.00\t\t14.14\t9.24\t\t8.16\n",
      "1.50\t\t21.21\t10.18\t\t12.25\n",
      "2.00\t\t28.28\t8.66\t\t16.33\n",
      "2.50\t\t35.36\t4.70\t\t20.41\n",
      "\n",
      "c) Cálculo da colisão:\n",
      "Tempo de colisão: 1.219 s\n",
      "Posição: (17.23m, 9.95m)\n"
     ]
    }
   ],
   "source": [
    "import math\n",
    "\n",
    "# Entradas do usuário (exemplo com valores padrão para teste)\n",
    "v0 = float(input(\"Velocidade inicial (v0) em m/s: \") or \"20\")\n",
    "theta = float(input(\"Ângulo de lançamento (θ) em graus: \") or \"45\")\n",
    "phi = float(input(\"Inclinação do plano (φ) em graus: \") or \"30\")\n",
    "\n",
    "# Conversão para radianos\n",
    "theta_rad = math.radians(theta)\n",
    "phi_rad = math.radians(phi)\n",
    "\n",
    "# Constantes \n",
    "g = 9.81\n",
    "tan_phi = math.tan(phi_rad)\n",
    "\n",
    "# Componentes da velocidade\n",
    "v0x = v0 * math.cos(theta_rad)\n",
    "v0y = v0 * math.sin(theta_rad)\n",
    "\n",
    "\n",
    "# a) Posições x(t) e y(t) do projétil\n",
    "print(\"\\na) Trajetória do projétil:\")\n",
    "print(\"Tempo(s)\\t x(m)\\t y(m)\")\n",
    "t = 0\n",
    "dt = 0.5\n",
    "while t >= 0:  \n",
    "    x = v0x * t\n",
    "    y = v0y * t - 0.5 * g * t**2\n",
    "    if y >= 0:  \n",
    "        print(f\"{t:.2f}\\t\\t{x:.2f}\\t{y:.2f}\")\n",
    "    else:  # Quando y < 0, força t = -1 para sair do loop\n",
    "        t = -1\n",
    "    t += dt\n",
    "\n",
    "# b) Trajetória com altura do plano \n",
    "print(\"\\nb) Trajetória com altura do plano:\")\n",
    "print(\"Tempo(s)\\t x(m)\\t y_proj(m)\\t y_plano(m)\")\n",
    "t = 0\n",
    "while t >= 0:  \n",
    "    x = v0x * t\n",
    "    y_proj = v0y * t - 0.5 * g * t**2\n",
    "    y_plano = tan_phi * x\n",
    "    if y_proj >= 0:  \n",
    "        print(f\"{t:.2f}\\t\\t{x:.2f}\\t{y_proj:.2f}\\t\\t{y_plano:.2f}\")\n",
    "    else:  \n",
    "        t = -1\n",
    "    t += dt\n",
    "\n",
    "\n",
    "# c) Cálculo do tempo de colisão (solução analítica)\n",
    "\n",
    "print(\"\\nc) Cálculo da colisão:\")\n",
    "\n",
    "# Equação: y_proj(t) = y_plano(t)\n",
    "# v0y*t - 0.5*g*t² = tan(φ)*v0x*t\n",
    "# Solução: t = [2*(v0y - v0x*tan(φ))]/g\n",
    "numerador = 2 * (v0y - v0x * tan_phi)\n",
    "if numerador <= 0:\n",
    "    print(\"Não há colisão\")\n",
    "else:\n",
    "    t_colisao = numerador / g\n",
    "    x_colisao = v0x * t_colisao\n",
    "    y_colisao = v0y * t_colisao - 0.5 * g * t_colisao**2\n",
    "    \n",
    "    # Verifica se ainda está no ar\n",
    "    if y_colisao >= 0:\n",
    "        print(f\"Tempo de colisão: {t_colisao:.3f} s\")\n",
    "        print(f\"Posição: ({x_colisao:.2f}m, {y_colisao:.2f}m)\")\n",
    "    else:\n",
    "        print(\"Não há colisão\")"
   ]
  }
 ],
 "metadata": {
  "kernelspec": {
   "display_name": "Python 3",
   "language": "python",
   "name": "python3"
  },
  "language_info": {
   "codemirror_mode": {
    "name": "ipython",
    "version": 3
   },
   "file_extension": ".py",
   "mimetype": "text/x-python",
   "name": "python",
   "nbconvert_exporter": "python",
   "pygments_lexer": "ipython3",
   "version": "3.11.9"
  }
 },
 "nbformat": 4,
 "nbformat_minor": 2
}
